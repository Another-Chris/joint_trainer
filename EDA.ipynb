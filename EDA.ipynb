{
 "cells": [
  {
   "cell_type": "code",
   "execution_count": 1,
   "metadata": {},
   "outputs": [],
   "source": [
    "import glob\n",
    "files = glob.glob('./data/cnceleb/data/*/*.wav')"
   ]
  },
  {
   "cell_type": "code",
   "execution_count": 24,
   "metadata": {},
   "outputs": [],
   "source": [
    "import pandas as pd \n",
    "import matplotlib.pyplot as plt\n",
    "\n",
    "scores = pd.read_csv('./scores.csv')"
   ]
  },
  {
   "cell_type": "code",
   "execution_count": null,
   "metadata": {},
   "outputs": [],
   "source": [
    "scores[100:150]"
   ]
  },
  {
   "cell_type": "code",
   "execution_count": 12,
   "metadata": {},
   "outputs": [
    {
     "data": {
      "text/plain": [
       "152294608.0"
      ]
     },
     "execution_count": 12,
     "metadata": {},
     "output_type": "execute_result"
    }
   ],
   "source": [
    "max(scores.all_scores)"
   ]
  },
  {
   "cell_type": "code",
   "execution_count": 2,
   "metadata": {},
   "outputs": [],
   "source": [
    "import torch \n",
    "\n",
    "state_dict =  torch.load('./save/ECAPA_TDNN_stage1_lanDAT/2022-11-13 06.35.52/model-40.model')\n",
    "new_dict = {}\n",
    "for key, val in state_dict.items():\n",
    "    if 'discriminator' not in key:\n",
    "        new_dict[key] = val\n",
    "    if 'encoder' in key:\n",
    "        new_dict[key.replace('encoder.', '')] = val\n",
    "torch.save(new_dict, './save/ECAPA_TDNN_stage1_lanDAT/2022-11-13 06.35.52/model-40.model')"
   ]
  }
 ],
 "metadata": {
  "kernelspec": {
   "display_name": "Python 3 (ipykernel)",
   "language": "python",
   "name": "python3"
  },
  "language_info": {
   "codemirror_mode": {
    "name": "ipython",
    "version": 3
   },
   "file_extension": ".py",
   "mimetype": "text/x-python",
   "name": "python",
   "nbconvert_exporter": "python",
   "pygments_lexer": "ipython3",
   "version": "3.7.13"
  },
  "vscode": {
   "interpreter": {
    "hash": "0699b7173f051129999427f434edac5778b3055a6cd14f9d6f1715c51faf0ca1"
   }
  }
 },
 "nbformat": 4,
 "nbformat_minor": 4
}
