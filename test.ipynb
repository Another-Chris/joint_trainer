{
 "cells": [
  {
   "cell_type": "code",
   "execution_count": 20,
   "id": "1c6723ea-bc1c-4f78-b680-fdc7aea98994",
   "metadata": {},
   "outputs": [
    {
     "name": "stderr",
     "output_type": "stream",
     "text": [
      "  5%|▍         | 3321/69939 [00:03<01:00, 1100.39it/s]\n"
     ]
    },
    {
     "ename": "KeyboardInterrupt",
     "evalue": "",
     "output_type": "error",
     "traceback": [
      "\u001b[0;31m---------------------------------------------------------------------------\u001b[0m",
      "\u001b[0;31mKeyboardInterrupt\u001b[0m                         Traceback (most recent call last)",
      "\u001b[0;32m/tmp/ipykernel_10708/2900037276.py\u001b[0m in \u001b[0;36m<module>\u001b[0;34m\u001b[0m\n\u001b[1;32m     22\u001b[0m \u001b[0;34m\u001b[0m\u001b[0m\n\u001b[1;32m     23\u001b[0m \u001b[0;31m# wavlen = get_len(wav_path, wav_list)\u001b[0m\u001b[0;34m\u001b[0m\u001b[0;34m\u001b[0m\u001b[0;34m\u001b[0m\u001b[0m\n\u001b[0;32m---> 24\u001b[0;31m \u001b[0mvadlen\u001b[0m \u001b[0;34m=\u001b[0m \u001b[0mget_len\u001b[0m\u001b[0;34m(\u001b[0m\u001b[0mvad_path\u001b[0m\u001b[0;34m,\u001b[0m \u001b[0mvad_list\u001b[0m\u001b[0;34m)\u001b[0m\u001b[0;34m\u001b[0m\u001b[0;34m\u001b[0m\u001b[0m\n\u001b[0m\u001b[1;32m     25\u001b[0m \u001b[0;34m\u001b[0m\u001b[0m\n",
      "\u001b[0;32m/tmp/ipykernel_10708/2900037276.py\u001b[0m in \u001b[0;36mget_len\u001b[0;34m(p, plist)\u001b[0m\n\u001b[1;32m     17\u001b[0m     \u001b[0;32mfor\u001b[0m \u001b[0mf\u001b[0m \u001b[0;32min\u001b[0m \u001b[0mtqdm\u001b[0m\u001b[0;34m(\u001b[0m\u001b[0mfiles\u001b[0m\u001b[0;34m)\u001b[0m\u001b[0;34m:\u001b[0m\u001b[0;34m\u001b[0m\u001b[0;34m\u001b[0m\u001b[0m\n\u001b[1;32m     18\u001b[0m         \u001b[0mf\u001b[0m \u001b[0;34m=\u001b[0m \u001b[0mf\u001b[0m\u001b[0;34m.\u001b[0m\u001b[0msplit\u001b[0m\u001b[0;34m(\u001b[0m\u001b[0;34m' '\u001b[0m\u001b[0;34m)\u001b[0m\u001b[0;34m[\u001b[0m\u001b[0;36m1\u001b[0m\u001b[0;34m]\u001b[0m\u001b[0;34m\u001b[0m\u001b[0;34m\u001b[0m\u001b[0m\n\u001b[0;32m---> 19\u001b[0;31m         \u001b[0maudio\u001b[0m\u001b[0;34m,\u001b[0m \u001b[0m_\u001b[0m \u001b[0;34m=\u001b[0m \u001b[0msf\u001b[0m\u001b[0;34m.\u001b[0m\u001b[0mread\u001b[0m\u001b[0;34m(\u001b[0m\u001b[0mp\u001b[0m \u001b[0;34m+\u001b[0m \u001b[0mf\u001b[0m\u001b[0;34m.\u001b[0m\u001b[0mstrip\u001b[0m\u001b[0;34m(\u001b[0m\u001b[0;34m)\u001b[0m\u001b[0;34m)\u001b[0m\u001b[0;34m\u001b[0m\u001b[0;34m\u001b[0m\u001b[0m\n\u001b[0m\u001b[1;32m     20\u001b[0m         \u001b[0ml\u001b[0m\u001b[0;34m.\u001b[0m\u001b[0mappend\u001b[0m\u001b[0;34m(\u001b[0m\u001b[0mlen\u001b[0m\u001b[0;34m(\u001b[0m\u001b[0maudio\u001b[0m\u001b[0;34m)\u001b[0m\u001b[0;34m)\u001b[0m\u001b[0;34m\u001b[0m\u001b[0;34m\u001b[0m\u001b[0m\n\u001b[1;32m     21\u001b[0m     \u001b[0;32mreturn\u001b[0m \u001b[0ml\u001b[0m\u001b[0;34m\u001b[0m\u001b[0;34m\u001b[0m\u001b[0m\n",
      "\u001b[0;32m/opt/conda/lib/python3.7/site-packages/soundfile.py\u001b[0m in \u001b[0;36mread\u001b[0;34m(file, frames, start, stop, dtype, always_2d, fill_value, out, samplerate, channels, format, subtype, endian, closefd)\u001b[0m\n\u001b[1;32m    283\u001b[0m                    subtype, endian, format, closefd) as f:\n\u001b[1;32m    284\u001b[0m         \u001b[0mframes\u001b[0m \u001b[0;34m=\u001b[0m \u001b[0mf\u001b[0m\u001b[0;34m.\u001b[0m\u001b[0m_prepare_read\u001b[0m\u001b[0;34m(\u001b[0m\u001b[0mstart\u001b[0m\u001b[0;34m,\u001b[0m \u001b[0mstop\u001b[0m\u001b[0;34m,\u001b[0m \u001b[0mframes\u001b[0m\u001b[0;34m)\u001b[0m\u001b[0;34m\u001b[0m\u001b[0;34m\u001b[0m\u001b[0m\n\u001b[0;32m--> 285\u001b[0;31m         \u001b[0mdata\u001b[0m \u001b[0;34m=\u001b[0m \u001b[0mf\u001b[0m\u001b[0;34m.\u001b[0m\u001b[0mread\u001b[0m\u001b[0;34m(\u001b[0m\u001b[0mframes\u001b[0m\u001b[0;34m,\u001b[0m \u001b[0mdtype\u001b[0m\u001b[0;34m,\u001b[0m \u001b[0malways_2d\u001b[0m\u001b[0;34m,\u001b[0m \u001b[0mfill_value\u001b[0m\u001b[0;34m,\u001b[0m \u001b[0mout\u001b[0m\u001b[0;34m)\u001b[0m\u001b[0;34m\u001b[0m\u001b[0;34m\u001b[0m\u001b[0m\n\u001b[0m\u001b[1;32m    286\u001b[0m     \u001b[0;32mreturn\u001b[0m \u001b[0mdata\u001b[0m\u001b[0;34m,\u001b[0m \u001b[0mf\u001b[0m\u001b[0;34m.\u001b[0m\u001b[0msamplerate\u001b[0m\u001b[0;34m\u001b[0m\u001b[0;34m\u001b[0m\u001b[0m\n\u001b[1;32m    287\u001b[0m \u001b[0;34m\u001b[0m\u001b[0m\n",
      "\u001b[0;32m/opt/conda/lib/python3.7/site-packages/soundfile.py\u001b[0m in \u001b[0;36mread\u001b[0;34m(self, frames, dtype, always_2d, fill_value, out)\u001b[0m\n\u001b[1;32m    890\u001b[0m             \u001b[0;32mif\u001b[0m \u001b[0mframes\u001b[0m \u001b[0;34m<\u001b[0m \u001b[0;36m0\u001b[0m \u001b[0;32mor\u001b[0m \u001b[0mframes\u001b[0m \u001b[0;34m>\u001b[0m \u001b[0mlen\u001b[0m\u001b[0;34m(\u001b[0m\u001b[0mout\u001b[0m\u001b[0;34m)\u001b[0m\u001b[0;34m:\u001b[0m\u001b[0;34m\u001b[0m\u001b[0;34m\u001b[0m\u001b[0m\n\u001b[1;32m    891\u001b[0m                 \u001b[0mframes\u001b[0m \u001b[0;34m=\u001b[0m \u001b[0mlen\u001b[0m\u001b[0;34m(\u001b[0m\u001b[0mout\u001b[0m\u001b[0;34m)\u001b[0m\u001b[0;34m\u001b[0m\u001b[0;34m\u001b[0m\u001b[0m\n\u001b[0;32m--> 892\u001b[0;31m         \u001b[0mframes\u001b[0m \u001b[0;34m=\u001b[0m \u001b[0mself\u001b[0m\u001b[0;34m.\u001b[0m\u001b[0m_array_io\u001b[0m\u001b[0;34m(\u001b[0m\u001b[0;34m'read'\u001b[0m\u001b[0;34m,\u001b[0m \u001b[0mout\u001b[0m\u001b[0;34m,\u001b[0m \u001b[0mframes\u001b[0m\u001b[0;34m)\u001b[0m\u001b[0;34m\u001b[0m\u001b[0;34m\u001b[0m\u001b[0m\n\u001b[0m\u001b[1;32m    893\u001b[0m         \u001b[0;32mif\u001b[0m \u001b[0mlen\u001b[0m\u001b[0;34m(\u001b[0m\u001b[0mout\u001b[0m\u001b[0;34m)\u001b[0m \u001b[0;34m>\u001b[0m \u001b[0mframes\u001b[0m\u001b[0;34m:\u001b[0m\u001b[0;34m\u001b[0m\u001b[0;34m\u001b[0m\u001b[0m\n\u001b[1;32m    894\u001b[0m             \u001b[0;32mif\u001b[0m \u001b[0mfill_value\u001b[0m \u001b[0;32mis\u001b[0m \u001b[0;32mNone\u001b[0m\u001b[0;34m:\u001b[0m\u001b[0;34m\u001b[0m\u001b[0;34m\u001b[0m\u001b[0m\n",
      "\u001b[0;32m/opt/conda/lib/python3.7/site-packages/soundfile.py\u001b[0m in \u001b[0;36m_array_io\u001b[0;34m(self, action, array, frames)\u001b[0m\n\u001b[1;32m   1338\u001b[0m         \u001b[0mctype\u001b[0m \u001b[0;34m=\u001b[0m \u001b[0mself\u001b[0m\u001b[0;34m.\u001b[0m\u001b[0m_check_dtype\u001b[0m\u001b[0;34m(\u001b[0m\u001b[0marray\u001b[0m\u001b[0;34m.\u001b[0m\u001b[0mdtype\u001b[0m\u001b[0;34m.\u001b[0m\u001b[0mname\u001b[0m\u001b[0;34m)\u001b[0m\u001b[0;34m\u001b[0m\u001b[0;34m\u001b[0m\u001b[0m\n\u001b[1;32m   1339\u001b[0m         \u001b[0;32massert\u001b[0m \u001b[0marray\u001b[0m\u001b[0;34m.\u001b[0m\u001b[0mdtype\u001b[0m\u001b[0;34m.\u001b[0m\u001b[0mitemsize\u001b[0m \u001b[0;34m==\u001b[0m \u001b[0m_ffi\u001b[0m\u001b[0;34m.\u001b[0m\u001b[0msizeof\u001b[0m\u001b[0;34m(\u001b[0m\u001b[0mctype\u001b[0m\u001b[0;34m)\u001b[0m\u001b[0;34m\u001b[0m\u001b[0;34m\u001b[0m\u001b[0m\n\u001b[0;32m-> 1340\u001b[0;31m         \u001b[0mcdata\u001b[0m \u001b[0;34m=\u001b[0m \u001b[0m_ffi\u001b[0m\u001b[0;34m.\u001b[0m\u001b[0mcast\u001b[0m\u001b[0;34m(\u001b[0m\u001b[0mctype\u001b[0m \u001b[0;34m+\u001b[0m \u001b[0;34m'*'\u001b[0m\u001b[0;34m,\u001b[0m \u001b[0marray\u001b[0m\u001b[0;34m.\u001b[0m\u001b[0m__array_interface__\u001b[0m\u001b[0;34m[\u001b[0m\u001b[0;34m'data'\u001b[0m\u001b[0;34m]\u001b[0m\u001b[0;34m[\u001b[0m\u001b[0;36m0\u001b[0m\u001b[0;34m]\u001b[0m\u001b[0;34m)\u001b[0m\u001b[0;34m\u001b[0m\u001b[0;34m\u001b[0m\u001b[0m\n\u001b[0m\u001b[1;32m   1341\u001b[0m         \u001b[0;32mreturn\u001b[0m \u001b[0mself\u001b[0m\u001b[0;34m.\u001b[0m\u001b[0m_cdata_io\u001b[0m\u001b[0;34m(\u001b[0m\u001b[0maction\u001b[0m\u001b[0;34m,\u001b[0m \u001b[0mcdata\u001b[0m\u001b[0;34m,\u001b[0m \u001b[0mctype\u001b[0m\u001b[0;34m,\u001b[0m \u001b[0mframes\u001b[0m\u001b[0;34m)\u001b[0m\u001b[0;34m\u001b[0m\u001b[0;34m\u001b[0m\u001b[0m\n\u001b[1;32m   1342\u001b[0m \u001b[0;34m\u001b[0m\u001b[0m\n",
      "\u001b[0;31mKeyboardInterrupt\u001b[0m: "
     ]
    }
   ],
   "source": [
    "import glob\n",
    "import pandas as pd\n",
    "import soundfile as sf\n",
    "from tqdm import tqdm \n",
    "import re\n",
    "\n",
    "wav_path = './data/cnceleb/data/'\n",
    "wav_list = './data/cnceleb_train_wav.txt'\n",
    "vad_path = './data/cnceleb_vad/'\n",
    "vad_list = './data/cnceleb_train_vad.txt'\n",
    "\n",
    "\n",
    "def get_len(p, plist):\n",
    "    with open(plist, 'r') as f:\n",
    "        files = f.readlines()\n",
    "    l = []\n",
    "    for f in tqdm(files):\n",
    "        f = f.split(' ')[1]        \n",
    "        audio, _ = sf.read(p + f.strip())\n",
    "        l.append(len(audio))\n",
    "    return l\n",
    "\n",
    "# wavlen = get_len(wav_path, wav_list)\n",
    "vadlen = get_len(vad_path, vad_list)\n",
    "    \n"
   ]
  },
  {
   "cell_type": "code",
   "execution_count": 34,
   "id": "48701a2c-56d1-48aa-a30d-c962e6c602e3",
   "metadata": {},
   "outputs": [
    {
     "name": "stdout",
     "output_type": "stream",
     "text": [
      "107953\n"
     ]
    }
   ],
   "source": [
    "import glob \n",
    "\n",
    "dev_list = []\n",
    "with open('./data/cnceleb/dev/dev.lst') as f:\n",
    "    for line in f:\n",
    "        dev_list.append(line.strip())\n",
    "\n",
    "\n",
    "files = glob.glob('./data/cnceleb/data/*/*.flac')\n",
    "c = 0\n",
    "for file in files:\n",
    "    if 'concat' in file: continue        \n",
    "    curr_label = re.findall(r'(id\\d+)', file)[0]\n",
    "    if curr_label not in dev_list: continue\n",
    "    c+=1\n",
    "print(c)"
   ]
  },
  {
   "cell_type": "code",
   "execution_count": 36,
   "id": "6d8d6d27-9a48-4188-8459-fb559db84fd8",
   "metadata": {},
   "outputs": [
    {
     "name": "stdout",
     "output_type": "stream",
     "text": [
      "107953\n"
     ]
    }
   ],
   "source": [
    "import glob \n",
    "\n",
    "dev_list = []\n",
    "with open('./data/cnceleb/dev/dev.lst') as f:\n",
    "    for line in f:\n",
    "        dev_list.append(line.strip())\n",
    "\n",
    "\n",
    "files = glob.glob('./data/cnceleb_wav/data/*/*.wav')\n",
    "c = 0\n",
    "for file in files:\n",
    "    if 'concat' in file: continue        \n",
    "    curr_label = re.findall(r'(id\\d+)', file)[0]\n",
    "    if curr_label not in dev_list: continue\n",
    "    c+=1\n",
    "print(c)"
   ]
  },
  {
   "cell_type": "code",
   "execution_count": null,
   "id": "3ebe11ff-dce4-4669-8dae-f3321311420c",
   "metadata": {},
   "outputs": [],
   "source": [
    "53288 - 49822"
   ]
  },
  {
   "cell_type": "code",
   "execution_count": 19,
   "id": "791678cb-5e9d-4e01-8e18-e6559a4fd5b7",
   "metadata": {},
   "outputs": [
    {
     "name": "stdout",
     "output_type": "stream",
     "text": [
      "count    7.985700e+04\n",
      "mean     1.776973e+05\n",
      "std      2.753283e+05\n",
      "min      5.051800e+04\n",
      "25%      8.507800e+04\n",
      "50%      1.107130e+05\n",
      "75%      1.746150e+05\n",
      "max      3.644678e+07\n",
      "dtype: float64\n",
      "count    7.846100e+04\n",
      "mean     1.696714e+05\n",
      "std      2.553896e+05\n",
      "min      4.896000e+04\n",
      "25%      8.256000e+04\n",
      "50%      1.075200e+05\n",
      "75%      1.680000e+05\n",
      "max      3.339504e+07\n",
      "dtype: float64\n"
     ]
    }
   ],
   "source": [
    "import pandas as pd \n",
    "\n",
    "wav_df = pd.Series(wavlen)\n",
    "print(wav_df.describe())\n",
    "\n",
    "vad_df = pd.Series(vadlen)\n",
    "print(vad_df.describe())"
   ]
  },
  {
   "cell_type": "code",
   "execution_count": 29,
   "id": "a332e8f5-a0cc-4f93-a188-dee5fd299a42",
   "metadata": {},
   "outputs": [
    {
     "name": "stdout",
     "output_type": "stream",
     "text": [
      "concat files...\n"
     ]
    },
    {
     "name": "stderr",
     "output_type": "stream",
     "text": [
      "100%|██████████| 7/7 [00:00<00:00, 361.35it/s]\n"
     ]
    }
   ],
   "source": [
    "from pathlib import PurePath\n",
    "from pydub import AudioSegment\n",
    "from tqdm import tqdm\n",
    "from scipy.io import wavfile\n",
    "\n",
    "import glob\n",
    "import multiprocessing\n",
    "import os\n",
    "import re\n",
    "import webrtcvad\n",
    "import struct\n",
    "import argparse\n",
    "import shutil\n",
    "\n",
    "import numpy as np\n",
    "import soundfile as sf\n",
    "\n",
    "dev_list = []\n",
    "with open('./data/cnceleb/dev/dev.lst') as f:\n",
    "    for line in f:\n",
    "        dev_list.append(line.strip())\n",
    "\n",
    "files = glob.glob('./data/cnceleb_vad/id00000/*.wav')\n",
    "tlen = 400 * 160 + 240 # concat short utterances (<400frames)\n",
    "\n",
    "cat = np.array([])\n",
    "curr_label = None\n",
    "prev_label = None\n",
    "\n",
    "print('concat files...')\n",
    "for i,file in enumerate(tqdm(files)):\n",
    "\n",
    "    if 'concat' in file: \n",
    "        os.unlink(file)\n",
    "        continue\n",
    "\n",
    "    curr_label = re.findall(r'(id\\d+)', file)[0]\n",
    "    if curr_label not in dev_list: continue\n",
    "\n",
    "    _, audio = wavfile.read(file)\n",
    "\n",
    "    if curr_label != prev_label and len(cat) > 0:\n",
    "        pure_path = PurePath(file)\n",
    "        fname = f'{os.path.split(pure_path)[0]}/{curr_label}-concat-{i}{pure_path.suffix}'\n",
    "        wavfile.write(fname, rate = 16000, data = cat)\n",
    "        cat = np.array([])\n",
    "        break\n",
    "\n",
    "    if len(audio) < tlen:\n",
    "        print(file, len(audio), tlen)\n",
    "        cat = np.concatenate([cat, audio])\n",
    "\n",
    "    prev_label = curr_label"
   ]
  },
  {
   "cell_type": "code",
   "execution_count": 30,
   "id": "6c26b20d-ea2a-4516-a229-ed75cb9e7fd7",
   "metadata": {},
   "outputs": [],
   "source": [
    "files = glob.glob('./data/cnceleb_vad/*/*.wav')"
   ]
  },
  {
   "cell_type": "code",
   "execution_count": 31,
   "id": "a9071998-196c-43d5-a42f-51117487c1a7",
   "metadata": {},
   "outputs": [
    {
     "data": {
      "text/plain": [
       "['./data/cnceleb_vad/id00661/singing-02-021.wav',\n",
       " './data/cnceleb_vad/id00661/singing-03-011.wav',\n",
       " './data/cnceleb_vad/id00661/singing-02-004.wav',\n",
       " './data/cnceleb_vad/id00661/singing-02-017.wav',\n",
       " './data/cnceleb_vad/id00661/singing-02-009.wav',\n",
       " './data/cnceleb_vad/id00661/singing-02-011.wav',\n",
       " './data/cnceleb_vad/id00661/singing-03-001.wav',\n",
       " './data/cnceleb_vad/id00661/singing-03-018.wav',\n",
       " './data/cnceleb_vad/id00661/singing-03-020.wav',\n",
       " './data/cnceleb_vad/id00661/singing-02-016.wav',\n",
       " './data/cnceleb_vad/id00661/singing-02-005.wav',\n",
       " './data/cnceleb_vad/id00661/singing-03-008.wav',\n",
       " './data/cnceleb_vad/id00661/singing-02-008.wav',\n",
       " './data/cnceleb_vad/id00661/singing-03-019.wav',\n",
       " './data/cnceleb_vad/id00661/singing-03-027.wav',\n",
       " './data/cnceleb_vad/id00661/vlog-01-005.wav',\n",
       " './data/cnceleb_vad/id00661/singing-03-029.wav',\n",
       " './data/cnceleb_vad/id00661/singing-02-014.wav',\n",
       " './data/cnceleb_vad/id00661/singing-03-010.wav',\n",
       " './data/cnceleb_vad/id00661/singing-03-023.wav',\n",
       " './data/cnceleb_vad/id00661/singing-03-017.wav',\n",
       " './data/cnceleb_vad/id00661/singing-02-010.wav',\n",
       " './data/cnceleb_vad/id00661/vlog-01-002.wav',\n",
       " './data/cnceleb_vad/id00661/vlog-01-004.wav',\n",
       " './data/cnceleb_vad/id00661/singing-03-007.wav',\n",
       " './data/cnceleb_vad/id00661/vlog-01-007.wav',\n",
       " './data/cnceleb_vad/id00661/singing-02-013.wav',\n",
       " './data/cnceleb_vad/id00661/vlog-01-003.wav',\n",
       " './data/cnceleb_vad/id00661/singing-02-003.wav',\n",
       " './data/cnceleb_vad/id00661/singing-03-003.wav',\n",
       " './data/cnceleb_vad/id00661/singing-02-019.wav',\n",
       " './data/cnceleb_vad/id00661/singing-03-016.wav',\n",
       " './data/cnceleb_vad/id00661/singing-03-021.wav',\n",
       " './data/cnceleb_vad/id00661/singing-03-009.wav',\n",
       " './data/cnceleb_vad/id00661/singing-02-012.wav',\n",
       " './data/cnceleb_vad/id00661/singing-03-013.wav',\n",
       " './data/cnceleb_vad/id00661/singing-03-022.wav',\n",
       " './data/cnceleb_vad/id00661/singing-03-006.wav',\n",
       " './data/cnceleb_vad/id00661/vlog-01-006.wav',\n",
       " './data/cnceleb_vad/id00661/singing-02-002.wav',\n",
       " './data/cnceleb_vad/id00661/singing-02-020.wav',\n",
       " './data/cnceleb_vad/id00661/singing-03-024.wav',\n",
       " './data/cnceleb_vad/id00661/singing-03-012.wav',\n",
       " './data/cnceleb_vad/id00661/singing-03-005.wav',\n",
       " './data/cnceleb_vad/id00661/singing-02-015.wav',\n",
       " './data/cnceleb_vad/id00661/singing-03-015.wav',\n",
       " './data/cnceleb_vad/id00661/singing-03-028.wav',\n",
       " './data/cnceleb_vad/id00661/singing-03-026.wav',\n",
       " './data/cnceleb_vad/id00661/singing-03-025.wav',\n",
       " './data/cnceleb_vad/id00661/singing-03-004.wav',\n",
       " './data/cnceleb_vad/id00661/singing-03-002.wav',\n",
       " './data/cnceleb_vad/id00661/singing-02-001.wav',\n",
       " './data/cnceleb_vad/id00661/singing-02-007.wav',\n",
       " './data/cnceleb_vad/id00661/singing-01-001.wav',\n",
       " './data/cnceleb_vad/id00661/singing-02-018.wav',\n",
       " './data/cnceleb_vad/id00661/singing-02-006.wav',\n",
       " './data/cnceleb_vad/id00661/vlog-01-001.wav',\n",
       " './data/cnceleb_vad/id00661/singing-03-014.wav',\n",
       " './data/cnceleb_vad/id00409/interview-01-006.wav',\n",
       " './data/cnceleb_vad/id00409/play-02-021.wav',\n",
       " './data/cnceleb_vad/id00409/play-01-002.wav',\n",
       " './data/cnceleb_vad/id00409/interview-03-011.wav',\n",
       " './data/cnceleb_vad/id00409/interview-03-021.wav',\n",
       " './data/cnceleb_vad/id00409/interview-03-025.wav',\n",
       " './data/cnceleb_vad/id00409/interview-03-024.wav',\n",
       " './data/cnceleb_vad/id00409/interview-03-005.wav',\n",
       " './data/cnceleb_vad/id00409/play-02-012.wav',\n",
       " './data/cnceleb_vad/id00409/interview-01-009.wav',\n",
       " './data/cnceleb_vad/id00409/interview-03-029.wav',\n",
       " './data/cnceleb_vad/id00409/interview-02-013.wav',\n",
       " './data/cnceleb_vad/id00409/drama-01-003.wav',\n",
       " './data/cnceleb_vad/id00409/play-02-007.wav',\n",
       " './data/cnceleb_vad/id00409/interview-01-001.wav',\n",
       " './data/cnceleb_vad/id00409/play-02-003.wav',\n",
       " './data/cnceleb_vad/id00409/interview-02-017.wav',\n",
       " './data/cnceleb_vad/id00409/interview-03-023.wav',\n",
       " './data/cnceleb_vad/id00409/interview-03-022.wav',\n",
       " './data/cnceleb_vad/id00409/interview-02-006.wav',\n",
       " './data/cnceleb_vad/id00409/interview-03-007.wav',\n",
       " './data/cnceleb_vad/id00409/interview-03-001.wav',\n",
       " './data/cnceleb_vad/id00409/play-02-016.wav',\n",
       " './data/cnceleb_vad/id00409/interview-02-003.wav',\n",
       " './data/cnceleb_vad/id00409/play-02-013.wav',\n",
       " './data/cnceleb_vad/id00409/interview-03-002.wav',\n",
       " './data/cnceleb_vad/id00409/interview-03-027.wav',\n",
       " './data/cnceleb_vad/id00409/interview-03-030.wav',\n",
       " './data/cnceleb_vad/id00409/interview-03-014.wav',\n",
       " './data/cnceleb_vad/id00409/interview-02-024.wav',\n",
       " './data/cnceleb_vad/id00409/interview-03-015.wav',\n",
       " './data/cnceleb_vad/id00409/interview-01-007.wav',\n",
       " './data/cnceleb_vad/id00409/interview-03-009.wav',\n",
       " './data/cnceleb_vad/id00409/interview-01-004.wav',\n",
       " './data/cnceleb_vad/id00409/interview-03-016.wav',\n",
       " './data/cnceleb_vad/id00409/interview-02-001.wav',\n",
       " './data/cnceleb_vad/id00409/interview-02-007.wav',\n",
       " './data/cnceleb_vad/id00409/play-02-014.wav',\n",
       " './data/cnceleb_vad/id00409/interview-03-026.wav',\n",
       " './data/cnceleb_vad/id00409/interview-03-012.wav',\n",
       " './data/cnceleb_vad/id00409/interview-02-004.wav',\n",
       " './data/cnceleb_vad/id00409/drama-01-002.wav']"
      ]
     },
     "execution_count": 31,
     "metadata": {},
     "output_type": "execute_result"
    }
   ],
   "source": [
    "files[:100]"
   ]
  }
 ],
 "metadata": {
  "kernelspec": {
   "display_name": "Python 3 (ipykernel)",
   "language": "python",
   "name": "python3"
  },
  "language_info": {
   "codemirror_mode": {
    "name": "ipython",
    "version": 3
   },
   "file_extension": ".py",
   "mimetype": "text/x-python",
   "name": "python",
   "nbconvert_exporter": "python",
   "pygments_lexer": "ipython3",
   "version": "3.7.13"
  }
 },
 "nbformat": 4,
 "nbformat_minor": 5
}
