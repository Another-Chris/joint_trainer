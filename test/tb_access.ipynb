{
 "cells": [
  {
   "cell_type": "code",
   "execution_count": 1,
   "metadata": {},
   "outputs": [
    {
     "data": {
      "text/html": [
       "<div>\n",
       "<style scoped>\n",
       "    .dataframe tbody tr th:only-of-type {\n",
       "        vertical-align: middle;\n",
       "    }\n",
       "\n",
       "    .dataframe tbody tr th {\n",
       "        vertical-align: top;\n",
       "    }\n",
       "\n",
       "    .dataframe thead th {\n",
       "        text-align: right;\n",
       "    }\n",
       "</style>\n",
       "<table border=\"1\" class=\"dataframe\">\n",
       "  <thead>\n",
       "    <tr style=\"text-align: right;\">\n",
       "      <th></th>\n",
       "      <th>run</th>\n",
       "      <th>tag</th>\n",
       "      <th>step</th>\n",
       "      <th>value</th>\n",
       "    </tr>\n",
       "  </thead>\n",
       "  <tbody>\n",
       "    <tr>\n",
       "      <th>0</th>\n",
       "      <td>ECAPA_TDNN_simCLR_CNCeleb\\2022-09-28 10.01.35</td>\n",
       "      <td>Eval/EER</td>\n",
       "      <td>10</td>\n",
       "      <td>19.971838</td>\n",
       "    </tr>\n",
       "    <tr>\n",
       "      <th>1</th>\n",
       "      <td>ECAPA_TDNN_simCLR_CNCeleb\\2022-09-28 10.01.35</td>\n",
       "      <td>Eval/EER</td>\n",
       "      <td>20</td>\n",
       "      <td>16.992397</td>\n",
       "    </tr>\n",
       "    <tr>\n",
       "      <th>2</th>\n",
       "      <td>ECAPA_TDNN_simCLR_CNCeleb\\2022-09-28 10.01.35</td>\n",
       "      <td>Eval/EER</td>\n",
       "      <td>30</td>\n",
       "      <td>16.660143</td>\n",
       "    </tr>\n",
       "    <tr>\n",
       "      <th>3</th>\n",
       "      <td>ECAPA_TDNN_simCLR_CNCeleb\\2022-09-28 10.01.35</td>\n",
       "      <td>Eval/EER</td>\n",
       "      <td>40</td>\n",
       "      <td>16.198269</td>\n",
       "    </tr>\n",
       "    <tr>\n",
       "      <th>4</th>\n",
       "      <td>ECAPA_TDNN_simCLR_CNCeleb\\2022-09-28 10.01.35</td>\n",
       "      <td>Eval/EER</td>\n",
       "      <td>50</td>\n",
       "      <td>15.832804</td>\n",
       "    </tr>\n",
       "    <tr>\n",
       "      <th>...</th>\n",
       "      <td>...</td>\n",
       "      <td>...</td>\n",
       "      <td>...</td>\n",
       "      <td>...</td>\n",
       "    </tr>\n",
       "    <tr>\n",
       "      <th>431577</th>\n",
       "      <td>ECAPA_TDNN_simCLR_VoxCeleb\\2022-09-29 14.44.49</td>\n",
       "      <td>step/simCLR</td>\n",
       "      <td>112642</td>\n",
       "      <td>0.459437</td>\n",
       "    </tr>\n",
       "    <tr>\n",
       "      <th>431578</th>\n",
       "      <td>ECAPA_TDNN_simCLR_VoxCeleb\\2022-09-29 14.44.49</td>\n",
       "      <td>step/simCLR</td>\n",
       "      <td>112643</td>\n",
       "      <td>0.303391</td>\n",
       "    </tr>\n",
       "    <tr>\n",
       "      <th>431579</th>\n",
       "      <td>ECAPA_TDNN_simCLR_VoxCeleb\\2022-09-29 14.44.49</td>\n",
       "      <td>step/simCLR</td>\n",
       "      <td>112644</td>\n",
       "      <td>0.397125</td>\n",
       "    </tr>\n",
       "    <tr>\n",
       "      <th>431580</th>\n",
       "      <td>ECAPA_TDNN_simCLR_VoxCeleb\\2022-09-29 14.44.49</td>\n",
       "      <td>step/simCLR</td>\n",
       "      <td>112645</td>\n",
       "      <td>0.416242</td>\n",
       "    </tr>\n",
       "    <tr>\n",
       "      <th>431581</th>\n",
       "      <td>ECAPA_TDNN_simCLR_VoxCeleb\\2022-09-29 14.44.49</td>\n",
       "      <td>step/simCLR</td>\n",
       "      <td>112646</td>\n",
       "      <td>0.425866</td>\n",
       "    </tr>\n",
       "  </tbody>\n",
       "</table>\n",
       "<p>431582 rows × 4 columns</p>\n",
       "</div>"
      ],
      "text/plain": [
       "                                                   run          tag    step  \\\n",
       "0        ECAPA_TDNN_simCLR_CNCeleb\\2022-09-28 10.01.35     Eval/EER      10   \n",
       "1        ECAPA_TDNN_simCLR_CNCeleb\\2022-09-28 10.01.35     Eval/EER      20   \n",
       "2        ECAPA_TDNN_simCLR_CNCeleb\\2022-09-28 10.01.35     Eval/EER      30   \n",
       "3        ECAPA_TDNN_simCLR_CNCeleb\\2022-09-28 10.01.35     Eval/EER      40   \n",
       "4        ECAPA_TDNN_simCLR_CNCeleb\\2022-09-28 10.01.35     Eval/EER      50   \n",
       "...                                                ...          ...     ...   \n",
       "431577  ECAPA_TDNN_simCLR_VoxCeleb\\2022-09-29 14.44.49  step/simCLR  112642   \n",
       "431578  ECAPA_TDNN_simCLR_VoxCeleb\\2022-09-29 14.44.49  step/simCLR  112643   \n",
       "431579  ECAPA_TDNN_simCLR_VoxCeleb\\2022-09-29 14.44.49  step/simCLR  112644   \n",
       "431580  ECAPA_TDNN_simCLR_VoxCeleb\\2022-09-29 14.44.49  step/simCLR  112645   \n",
       "431581  ECAPA_TDNN_simCLR_VoxCeleb\\2022-09-29 14.44.49  step/simCLR  112646   \n",
       "\n",
       "            value  \n",
       "0       19.971838  \n",
       "1       16.992397  \n",
       "2       16.660143  \n",
       "3       16.198269  \n",
       "4       15.832804  \n",
       "...           ...  \n",
       "431577   0.459437  \n",
       "431578   0.303391  \n",
       "431579   0.397125  \n",
       "431580   0.416242  \n",
       "431581   0.425866  \n",
       "\n",
       "[431582 rows x 4 columns]"
      ]
     },
     "execution_count": 1,
     "metadata": {},
     "output_type": "execute_result"
    }
   ],
   "source": [
    "import tensorboard as tb\n",
    "import pandas as pd\n",
    "\n",
    "exp_id = 'bKxM3uq3TOuOOVBEg8c6Ag'\n",
    "experiment = tb.data.experimental.ExperimentFromDev(exp_id)\n",
    "df = experiment.get_scalars()\n",
    "df"
   ]
  },
  {
   "cell_type": "code",
   "execution_count": 6,
   "metadata": {},
   "outputs": [],
   "source": [
    "from torch.utils.tensorboard import SummaryWriter\n",
    "from datetime import datetime as dt\n",
    "\n",
    "runs = df.run.unique()\n",
    "for run in runs:\n",
    "    exp = df[df['run'] == run]\n",
    "    run_name = run.split('\\\\')[0]\n",
    "    writer = SummaryWriter(f\"../logs/{run_name}/{dt.now().strftime('%Y-%m-%d %H.%M.%S')}\")\n",
    "    tags = df['tag'].unique()\n",
    "    for tag in tags:\n",
    "        \n",
    "        if 'step' in tag: continue\n",
    "        \n",
    "        vals = exp[exp['tag'] == tag]['value'].values\n",
    "        for step, val in enumerate(vals):\n",
    "            writer.add_scalar(tag, val, 10 + step * 10 if 'EER' in tag or 'MinDCF' in tag else step)"
   ]
  },
  {
   "cell_type": "code",
   "execution_count": 8,
   "metadata": {},
   "outputs": [],
   "source": [
    "from torch.utils.tensorboard import SummaryWriter\n",
    "from datetime import datetime as dt\n",
    "\n",
    "writer = SummaryWriter(f\"../logs/ECAPA_TDNN_simCLR_VoxCeleb/{dt.now().strftime('%Y-%m-%d %H.%M.%S')}\")\n",
    "\n",
    "vox = df[df['run'].str.contains('ECAPA_TDNN_simCLR_VoxCeleb')]\n",
    "tags = vox.tag.unique()\n",
    "for tag in tags:\n",
    "    vals = vox[vox['tag'] == tag]['value'].values\n",
    "    for step, val in enumerate(vals):\n",
    "        writer.add_scalar(tag, val, step * 10 if 'EER' in tag or 'MinDCF' in tag else step)\n"
   ]
  },
  {
   "cell_type": "code",
   "execution_count": 6,
   "metadata": {},
   "outputs": [
    {
     "data": {
      "text/plain": [
       "array(['epoch/loss', 'epoch/simCLR', 'step/loss', 'step/simCLR',\n",
       "       'Eval/EER', 'Eval/MinDCF'], dtype=object)"
      ]
     },
     "execution_count": 6,
     "metadata": {},
     "output_type": "execute_result"
    }
   ],
   "source": [
    "tags"
   ]
  }
 ],
 "metadata": {
  "kernelspec": {
   "display_name": "Python 3.9.12 ('base')",
   "language": "python",
   "name": "python3"
  },
  "language_info": {
   "codemirror_mode": {
    "name": "ipython",
    "version": 3
   },
   "file_extension": ".py",
   "mimetype": "text/x-python",
   "name": "python",
   "nbconvert_exporter": "python",
   "pygments_lexer": "ipython3",
   "version": "3.9.12"
  },
  "orig_nbformat": 4,
  "vscode": {
   "interpreter": {
    "hash": "0699b7173f051129999427f434edac5778b3055a6cd14f9d6f1715c51faf0ca1"
   }
  }
 },
 "nbformat": 4,
 "nbformat_minor": 2
}
